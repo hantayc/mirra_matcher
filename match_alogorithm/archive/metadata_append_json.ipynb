{
 "cells": [
  {
   "cell_type": "code",
   "execution_count": null,
   "metadata": {},
   "outputs": [
    {
     "name": "stdout",
     "output_type": "stream",
     "text": [
      "                                     id  \\\n",
      "0  8be4b1f5-45a9-435c-ae6c-18f40f16fd3b   \n",
      "1  77fc8132-f99b-441e-97a4-28a9ffc0abc8   \n",
      "2  ceb96cff-efcd-415f-bef3-671aef26b779   \n",
      "3  1786cb06-e4e6-4b0f-bf6a-be0df58de56f   \n",
      "4  df17859b-13a5-4c09-a8f0-37598fc751a0   \n",
      "\n",
      "                                       job_desc_json  \n",
      "0  {'details': {'wage': [], 'benefits': {'fsa': F...  \n",
      "1  {'details': {'wage': [{'max': 175000, 'min': 1...  \n",
      "2  {'details': {'wage': [], 'benefits': {'fsa': F...  \n",
      "3  {'details': {'wage': [{'max': 75000, 'min': 65...  \n",
      "4  {'details': {'wage': [{'max': 125000, 'min': 1...  \n"
     ]
    }
   ],
   "source": [
    "import os\n",
    "import json\n",
    "import pandas as pd\n",
    "import numpy as np\n",
    "\n",
    "current_wd = os.getcwd()\n",
    "\n",
    "def safe_json_loads(val):\n",
    "    try:\n",
    "        return json.loads(val)\n",
    "    except json.JSONDecodeError:\n",
    "        return None\n",
    "\n",
    "job_desc_data = pd.read_excel(os.path.join(current_wd, \"data\", \"sample_des_extractions_test_final_3.18.25.xlsx\"))\n",
    "resume_data = pd.read_excel(os.path.join(current_wd, \"data\", \"sample_res_extractions_final_3.18.25.xlsx\"))\n",
    "\n",
    "job_desc_data[\"job_desc_parsed\"] = job_desc_data[\"extracted\"].apply(safe_json_loads)\n",
    "resume_data[\"resume_parsed\"] = resume_data[\"extracted\"].apply(safe_json_loads)\n",
    "\n",
    "job_desc_json = job_desc_data['job_desc_parsed']\n",
    "resume_json = resume_data['resume_parsed']\n",
    "\n",
    "def append_job_id_to_job_desc(row):\n",
    "    job_id = row['id']\n",
    "    job_desc = row['job_desc_parsed']\n",
    "\n",
    "    if job_desc is None:\n",
    "        return None\n",
    "    \n",
    "    if isinstance(job_desc, str):\n",
    "        job_desc = safe_json_loads(job_desc)\n",
    "        if job_desc is None:\n",
    "            return None\n",
    "    \n",
    "    job_desc['job_id'] = job_id\n",
    "    return job_desc\n",
    "\n",
    "job_desc_data['job_desc_json'] = job_desc_data.apply(append_job_id_to_job_desc, axis=1)\n",
    "\n",
    "# Print out a few rows to verify the new column\n",
    "print(job_desc_data[['id', 'job_desc_json']].head())"
   ]
  },
  {
   "cell_type": "code",
   "execution_count": 9,
   "metadata": {},
   "outputs": [
    {
     "data": {
      "text/plain": [
       "dict_keys(['details', 'mandatory', 'preferred', 'responsibility', 'job_id'])"
      ]
     },
     "execution_count": 9,
     "metadata": {},
     "output_type": "execute_result"
    }
   ],
   "source": [
    "job_desc_json[1].keys()"
   ]
  },
  {
   "cell_type": "code",
   "execution_count": null,
   "metadata": {},
   "outputs": [],
   "source": []
  }
 ],
 "metadata": {
  "kernelspec": {
   "display_name": "mirra_env",
   "language": "python",
   "name": "python3"
  },
  "language_info": {
   "codemirror_mode": {
    "name": "ipython",
    "version": 3
   },
   "file_extension": ".py",
   "mimetype": "text/x-python",
   "name": "python",
   "nbconvert_exporter": "python",
   "pygments_lexer": "ipython3",
   "version": "3.11.6"
  }
 },
 "nbformat": 4,
 "nbformat_minor": 2
}

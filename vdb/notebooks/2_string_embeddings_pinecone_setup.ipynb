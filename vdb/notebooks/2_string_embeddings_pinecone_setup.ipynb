{
 "cells": [
  {
   "cell_type": "code",
   "execution_count": 10,
   "source": [
    "!pip install pinecone-client"
   ],
   "outputs": [
    {
     "output_type": "stream",
     "name": "stdout",
     "text": [
      "Collecting pinecone-client\n",
      "  Downloading pinecone_client-6.0.0-py3-none-any.whl.metadata (3.4 kB)\n",
      "Requirement already satisfied: certifi>=2019.11.17 in /home/ec2-user/anaconda3/envs/python3/lib/python3.10/site-packages (from pinecone-client) (2025.1.31)\n",
      "Requirement already satisfied: pinecone-plugin-interface<0.0.8,>=0.0.7 in /home/ec2-user/anaconda3/envs/python3/lib/python3.10/site-packages (from pinecone-client) (0.0.7)\n",
      "Requirement already satisfied: python-dateutil>=2.5.3 in /home/ec2-user/anaconda3/envs/python3/lib/python3.10/site-packages (from pinecone-client) (2.9.0.post0)\n",
      "Requirement already satisfied: typing-extensions>=3.7.4 in /home/ec2-user/anaconda3/envs/python3/lib/python3.10/site-packages (from pinecone-client) (4.12.2)\n",
      "Requirement already satisfied: urllib3>=1.26.0 in /home/ec2-user/anaconda3/envs/python3/lib/python3.10/site-packages (from pinecone-client) (2.3.0)\n",
      "Requirement already satisfied: six>=1.5 in /home/ec2-user/anaconda3/envs/python3/lib/python3.10/site-packages (from python-dateutil>=2.5.3->pinecone-client) (1.17.0)\n",
      "Downloading pinecone_client-6.0.0-py3-none-any.whl (6.7 kB)\n",
      "Installing collected packages: pinecone-client\n",
      "Successfully installed pinecone-client-6.0.0\n"
     ]
    }
   ],
   "metadata": {}
  },
  {
   "cell_type": "markdown",
   "source": [
    "#02_pinecone_setup\n",
    "- Initializes Pinecone with API keys\n",
    "- Creates or connects to an existing index\n",
    "- Sets up the proper dimensions (1024) for Jina embeddings\n",
    "- Configures metadata fields for efficient filtering\n",
    "- Tests basic vector operations (insert, query, filter, delete)\n",
    "- Creates a helper function for use in other notebooks"
   ],
   "metadata": {
    "id": "68qiAqoddorr"
   }
  },
  {
   "cell_type": "code",
   "execution_count": 11,
   "source": [
    "import json\n",
    "import uuid\n",
    "import numpy as np\n",
    "import pandas as pd"
   ],
   "outputs": [],
   "metadata": {
    "id": "vqVU0vTmG0af"
   }
  },
  {
   "cell_type": "code",
   "execution_count": 12,
   "source": [
    "from pinecone import pinecone\n",
    "\n",
    "PINECONE_API_KEY = \"\"\n",
    "PINECONE_ENVIRONMENT = \"us-east-1\"\n"
   ],
   "outputs": [],
   "metadata": {
    "id": "FPqDypA1G0ag"
   }
  },
  {
   "cell_type": "code",
   "execution_count": null,
   "source": [
    "# Define index parameters\n",
    "INDEX_NAME = \"mirra-embeddings\"\n",
    "DIMENSION = 1024  \n",
    "METRIC = \"cosine\"\n",
    "\n",
    "# Define metadata fields to index for efficient filtering\n",
    "INDEXED_METADATA_FIELDS = [\n",
    "    \"source_type\",        # job_description, resume\n",
    "    \"requirement_level\",  # mandatory, preferred, responsibility\n",
    "    \"job_id\",             # For grouping by job\n",
    "    \"resume_id\"           # For grouping by resume\n",
    "    \"location\"\n",
    "]\n",
    "\n",
    "# Initialize Pinecone with API key and environment\n",
    "pc = pinecone.Pinecone(api_key=PINECONE_API_KEY)\n",
    "\n",
    "# List existing indexes\n",
    "existing_indexes = pc.list_indexes().names()\n",
    "print(f\"Existing indexes: {existing_indexes}\")\n",
    "\n",
    "print(f\"Index name: {INDEX_NAME}\")\n",
    "print(f\"Vector dimension: {DIMENSION}\")\n",
    "print(f\"Similarity metric: {METRIC}\")\n",
    "print(f\"Indexed metadata fields: {INDEXED_METADATA_FIELDS}\")"
   ],
   "outputs": [],
   "metadata": {
    "id": "38NnDhv5G0ag"
   }
  },
  {
   "cell_type": "code",
   "execution_count": 16,
   "source": [
    "# Check if the index already exists\n",
    "if INDEX_NAME in existing_indexes:\n",
    "    print(f\"Index '{INDEX_NAME}' already exists. Connecting to existing index.\")\n",
    "    # Connect to the existing index\n",
    "    index = pc.Index(INDEX_NAME)\n",
    "\n",
    "    # Get and display index statistics\n",
    "    index_stats = index.describe_index_stats()\n",
    "    print(f\"Index statistics:\")\n",
    "    print(index_stats)\n",
    "else:\n",
    "    print(f\"Creating new index '{INDEX_NAME}'...\")\n",
    "\n",
    "    # Create the index with specifications\n",
    "    pc.create_index(\n",
    "        name=INDEX_NAME,\n",
    "        dimension=DIMENSION,\n",
    "        metric=METRIC,\n",
    "        metadata_config={\n",
    "            \"indexed\": INDEXED_METADATA_FIELDS\n",
    "        }\n",
    "    )\n",
    "\n",
    "    print(f\"Index '{INDEX_NAME}' created successfully.\")\n",
    "\n",
    "    # Connect to the newly created index\n",
    "    index = pc.Index(INDEX_NAME)\n",
    "\n",
    "    # Verify index creation\n",
    "    new_indexes = pc.list_indexes().names()\n",
    "    print(f\"Updated index list: {new_indexes}\")"
   ],
   "outputs": [
    {
     "output_type": "stream",
     "name": "stdout",
     "text": [
      "Index 'mirra-embeddings' already exists. Connecting to existing index.\n",
      "Index statistics:\n",
      "{'dimension': 1024,\n",
      " 'index_fullness': 0.0,\n",
      " 'metric': 'cosine',\n",
      " 'namespaces': {},\n",
      " 'total_vector_count': 0,\n",
      " 'vector_type': 'dense'}\n"
     ]
    }
   ],
   "metadata": {
    "id": "Aibz1lbvG0ah"
   }
  },
  {
   "cell_type": "code",
   "execution_count": 18,
   "source": [
    "# Create a test vector\n",
    "def create_test_vector():\n",
    "    # Generate a random vector of the correct dimension\n",
    "    # Convert NumPy floats to regular Python floats\n",
    "    vector_values = [float(val) for val in np.random.rand(DIMENSION)]\n",
    "\n",
    "    # Create a unique ID for the test vector\n",
    "    vector_id = f\"test_{uuid.uuid4()}\"\n",
    "\n",
    "    # Create metadata for the test vector\n",
    "    metadata = {\n",
    "        \"source_type\": \"test\",\n",
    "        \"requirement_level\": \"mandatory\",\n",
    "        \"job_id\": \"test_job\",\n",
    "        \"skill_name\": \"Python programming\",\n",
    "        \"string_text\": \"Required skill: Python programming with 3 years experience\"\n",
    "    }\n",
    "\n",
    "    # Create the vector object\n",
    "    vector = {\n",
    "        \"id\": vector_id,\n",
    "        \"values\": vector_values,\n",
    "        \"metadata\": metadata\n",
    "    }\n",
    "\n",
    "    return vector, vector_id"
   ],
   "outputs": [],
   "metadata": {
    "id": "nQ0q60KsG0ah"
   }
  },
  {
   "cell_type": "code",
   "execution_count": 20,
   "source": [
    "# Query the test vector\n",
    "query_results = index.query(\n",
    "    vector=test_vector[\"values\"],\n",
    "    top_k=1,\n",
    "    include_metadata=True\n",
    ")\n",
    "\n",
    "print(\"Query results:\")\n",
    "# Convert to dictionary if possible or print directly\n",
    "try:\n",
    "    query_results_dict = query_results.to_dict() if hasattr(query_results, 'to_dict') else vars(query_results)\n",
    "    print(json.dumps(query_results_dict, indent=2))\n",
    "except:\n",
    "    # Fallback to direct printing\n",
    "    print(query_results)\n",
    "\n",
    "# Verify the top result is our test vector (adjust this based on the actual structure)\n",
    "matches = getattr(query_results, 'matches', [])\n",
    "if matches and matches[0].id == test_vector_id:\n",
    "    print(\"Vector query successful! Retrieved the test vector correctly.\")\n",
    "else:\n",
    "    print(\"Vector query issue: Test vector not retrieved as expected.\")"
   ],
   "outputs": [
    {
     "output_type": "stream",
     "name": "stdout",
     "text": [
      "Query results:\n",
      "{\n",
      "  \"matches\": [],\n",
      "  \"namespace\": \"\",\n",
      "  \"usage\": {\n",
      "    \"read_units\": 1\n",
      "  }\n",
      "}\n",
      "Vector query issue: Test vector not retrieved as expected.\n"
     ]
    }
   ],
   "metadata": {
    "id": "LpkJaAO0G0ah"
   }
  },
  {
   "cell_type": "code",
   "execution_count": 22,
   "source": [
    "# Query with metadata filter\n",
    "filtered_results = index.query(\n",
    "    vector=test_vector[\"values\"],\n",
    "    filter={\"source_type\": \"test\"},\n",
    "    top_k=10,\n",
    "    include_metadata=True\n",
    ")\n",
    "\n",
    "print(\"\\nFiltered query results:\")\n",
    "# Convert to dictionary if possible or print directly\n",
    "try:\n",
    "    filtered_results_dict = filtered_results.to_dict() if hasattr(filtered_results, 'to_dict') else vars(filtered_results)\n",
    "    print(json.dumps(filtered_results_dict, indent=2))\n",
    "except:\n",
    "    # Fallback to direct printing\n",
    "    print(filtered_results)\n",
    "\n",
    "# Check matches using attributes instead of dictionary access\n",
    "matches = getattr(filtered_results, 'matches', [])\n",
    "if matches:\n",
    "    print(f\"Filter query successful! Retrieved {len(matches)} vectors.\")\n",
    "else:\n",
    "    print(\"Filter query issue: No vectors retrieved with filter.\")"
   ],
   "outputs": [
    {
     "output_type": "stream",
     "name": "stdout",
     "text": [
      "\n",
      "Filtered query results:\n",
      "{\n",
      "  \"matches\": [],\n",
      "  \"namespace\": \"\",\n",
      "  \"usage\": {\n",
      "    \"read_units\": 1\n",
      "  }\n",
      "}\n",
      "Filter query issue: No vectors retrieved with filter.\n"
     ]
    }
   ],
   "metadata": {
    "id": "A-LoFt58G0ah"
   }
  },
  {
   "cell_type": "code",
   "execution_count": 24,
   "source": [
    "# Delete the test vector\n",
    "index.delete(ids=[test_vector_id])\n",
    "\n",
    "# Verify deletion\n",
    "index_stats_after_delete = index.describe_index_stats()\n",
    "# Convert to dictionary if possible or print directly\n",
    "try:\n",
    "    stats_dict = index_stats_after_delete.to_dict() if hasattr(index_stats_after_delete, 'to_dict') else vars(index_stats_after_delete)\n",
    "    print(f\"Index statistics after deletion: {json.dumps(stats_dict, indent=2)}\")\n",
    "except:\n",
    "    # Fallback to direct printing\n",
    "    print(f\"Index statistics after deletion:\")\n",
    "    print(index_stats_after_delete)"
   ],
   "outputs": [
    {
     "output_type": "stream",
     "name": "stdout",
     "text": [
      "Index statistics after deletion: {\n",
      "  \"namespaces\": {},\n",
      "  \"index_fullness\": 0.0,\n",
      "  \"total_vector_count\": 0,\n",
      "  \"dimension\": 1024,\n",
      "  \"metric\": \"cosine\",\n",
      "  \"vector_type\": \"dense\"\n",
      "}\n"
     ]
    }
   ],
   "metadata": {
    "id": "krt-yCVCG0ah"
   }
  },
  {
   "cell_type": "code",
   "execution_count": 27,
   "source": [
    "def get_pinecone_index(index_name=INDEX_NAME, api_key=PINECONE_API_KEY):\n",
    "    \"\"\"\n",
    "    Helper function to initialize Pinecone and return the index.\n",
    "\n",
    "    Args:\n",
    "        index_name: Name of the Pinecone index\n",
    "        api_key: Pinecone API key\n",
    "\n",
    "    Returns:\n",
    "        Pinecone index object\n",
    "    \"\"\"\n",
    "    # Initialize Pinecone with specified credentials\n",
    "    pc = Pinecone(api_key=api_key)\n",
    "\n",
    "    # Return the index\n",
    "    return pc.Index(index_name)\n",
    "\n",
    "# Save this function for use in other notebooks\n",
    "# %store get_pinecone_index\n",
    "# print(\"Stored get_pinecone_index function for use in other notebooks.\")"
   ],
   "outputs": [],
   "metadata": {
    "id": "DgyUBsp9G0ah"
   }
  },
  {
   "cell_type": "code",
   "execution_count": 28,
   "source": [
    "print(\"\"\"\n",
    "Pinecone Setup Complete.\n",
    "\n",
    "Successfully:\n",
    "1. Initialized Pinecone with credentials\n",
    "2. Created a vector index for resume-job matching\n",
    "3. Configured the index for jina-embeddings-v3 (1024 dimensions)\n",
    "4. Set up metadata indexing for efficient filtering\n",
    "5. Tested basic vector operations (insert, query, filter, delete)\n",
    "\n",
    "The vector database is now ready for storing job description and resume embeddings.\n",
    "\"\"\")"
   ],
   "outputs": [
    {
     "output_type": "stream",
     "name": "stdout",
     "text": [
      "\n",
      "Pinecone Setup Complete.\n",
      "\n",
      "Successfully:\n",
      "1. Initialized Pinecone with credentials\n",
      "2. Created a vector index for resume-job matching\n",
      "3. Configured the index for jina-embeddings-v3 (1024 dimensions)\n",
      "4. Set up metadata indexing for efficient filtering\n",
      "5. Tested basic vector operations (insert, query, filter, delete)\n",
      "\n",
      "The vector database is now ready for storing job description and resume embeddings.\n",
      "\n"
     ]
    }
   ],
   "metadata": {
    "id": "_6g_sfR2G0ai"
   }
  },
  {
   "cell_type": "code",
   "execution_count": null,
   "source": [],
   "outputs": [],
   "metadata": {}
  }
 ],
 "metadata": {
  "colab": {
   "provenance": []
  },
  "kernelspec": {
   "display_name": "conda_python3",
   "language": "python",
   "name": "conda_python3"
  },
  "language_info": {
   "codemirror_mode": {
    "name": "ipython",
    "version": 3
   },
   "file_extension": ".py",
   "mimetype": "text/x-python",
   "name": "python",
   "nbconvert_exporter": "python",
   "pygments_lexer": "ipython3",
   "version": "3.10.16"
  }
 },
 "nbformat": 4,
 "nbformat_minor": 4
}
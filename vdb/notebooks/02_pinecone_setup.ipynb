{
 "cells": [
  {
   "cell_type": "markdown",
   "source": [
    "#02_pinecone_setup\n",
    "- Initializes Pinecone with API keys\n",
    "- Creates or connects to an existing index\n",
    "- Sets up the proper dimensions (1024) for Jina embeddings\n",
    "- Configures metadata fields for efficient filtering\n",
    "- Tests basic vector operations (insert, query, filter, delete)\n",
    "- Creates a helper function for use in other notebooks"
   ],
   "metadata": {
    "id": "68qiAqoddorr"
   }
  },
  {
   "cell_type": "code",
   "execution_count": 2,
   "source": [
    "!pip install pinecone"
   ],
   "outputs": [
    {
     "output_type": "stream",
     "name": "stdout",
     "text": [
      "Collecting pinecone\n",
      "  Downloading pinecone-6.0.1-py3-none-any.whl.metadata (8.8 kB)\n",
      "Requirement already satisfied: certifi>=2019.11.17 in /home/ec2-user/anaconda3/envs/python3/lib/python3.10/site-packages (from pinecone) (2025.1.31)\n",
      "Collecting pinecone-plugin-interface<0.0.8,>=0.0.7 (from pinecone)\n",
      "  Downloading pinecone_plugin_interface-0.0.7-py3-none-any.whl.metadata (1.2 kB)\n",
      "Requirement already satisfied: python-dateutil>=2.5.3 in /home/ec2-user/anaconda3/envs/python3/lib/python3.10/site-packages (from pinecone) (2.9.0.post0)\n",
      "Requirement already satisfied: typing-extensions>=3.7.4 in /home/ec2-user/anaconda3/envs/python3/lib/python3.10/site-packages (from pinecone) (4.12.2)\n",
      "Requirement already satisfied: urllib3>=1.26.0 in /home/ec2-user/anaconda3/envs/python3/lib/python3.10/site-packages (from pinecone) (2.3.0)\n",
      "Requirement already satisfied: six>=1.5 in /home/ec2-user/anaconda3/envs/python3/lib/python3.10/site-packages (from python-dateutil>=2.5.3->pinecone) (1.17.0)\n",
      "Downloading pinecone-6.0.1-py3-none-any.whl (421 kB)\n",
      "Downloading pinecone_plugin_interface-0.0.7-py3-none-any.whl (6.2 kB)\n",
      "Installing collected packages: pinecone-plugin-interface, pinecone\n",
      "Successfully installed pinecone-6.0.1 pinecone-plugin-interface-0.0.7\n"
     ]
    }
   ],
   "metadata": {}
  },
  {
   "cell_type": "code",
   "execution_count": 5,
   "source": [
    "import json\n",
    "import pinecone\n",
    "import uuid\n",
    "import numpy as np\n",
    "import pandas as pd"
   ],
   "outputs": [],
   "metadata": {
    "id": "vqVU0vTmG0af"
   }
  },
  {
   "cell_type": "code",
   "execution_count": 6,
   "source": [
    "\n",
    "PINECONE_API_KEY = \"redacted\"\n",
    "PINECONE_ENVIRONMENT = \"us-east-1\"\n"
   ],
   "outputs": [],
   "metadata": {
    "id": "FPqDypA1G0ag"
   }
  },
  {
   "cell_type": "code",
   "execution_count": 4,
   "source": [
    "from pinecone import Pinecone\n",
    "\n",
    "# initialize Pinecone with API key\n",
    "pc = Pinecone(api_key=PINECONE_API_KEY)\n",
    "\n",
    "existing_indexes = pc.list_indexes()"
   ],
   "outputs": [],
   "metadata": {
    "id": "9mKhYA8NG0ag"
   }
  },
  {
   "cell_type": "code",
   "execution_count": 5,
   "source": [
    "# Define index parameters\n",
    "INDEX_NAME = \"mirra\"\n",
    "DIMENSION = 1024  # jina-embeddings-v3 uses 1024 dimensions\n",
    "METRIC = \"cosine\"  # Cosine similarity is best for semantic matching\n",
    "\n",
    "# Define metadata fields to index for efficient filtering\n",
    "INDEXED_METADATA_FIELDS = [\n",
    "    \"source_type\",        # job_description, resume\n",
    "    \"chunk_type\",         # skill, education, experience, credential\n",
    "    \"requirement_level\",  # mandatory, preferred, responsibility\n",
    "    \"job_id\",             # For grouping chunks by job\n",
    "    \"resume_id\"           # For grouping chunks by resume\n",
    "]\n",
    "\n",
    "print(f\"Index name: {INDEX_NAME}\")\n",
    "print(f\"Vector dimension: {DIMENSION}\")\n",
    "print(f\"Similarity metric: {METRIC}\")\n",
    "print(f\"Indexed metadata fields: {INDEXED_METADATA_FIELDS}\")"
   ],
   "outputs": [
    {
     "output_type": "stream",
     "name": "stdout",
     "text": [
      "Index name: mirra\n",
      "Vector dimension: 1024\n",
      "Similarity metric: cosine\n",
      "Indexed metadata fields: ['source_type', 'chunk_type', 'requirement_level', 'job_id', 'resume_id']\n"
     ]
    }
   ],
   "metadata": {
    "id": "38NnDhv5G0ag"
   }
  },
  {
   "cell_type": "code",
   "execution_count": 6,
   "source": [
    "index = pc.Index(INDEX_NAME)"
   ],
   "outputs": [],
   "metadata": {
    "id": "Aibz1lbvG0ah"
   }
  },
  {
   "cell_type": "code",
   "execution_count": 7,
   "source": [
    "# Create a test vector\n",
    "def create_test_vector():\n",
    "    # Generate a random vector of the correct dimension\n",
    "    numpy_values = np.random.rand(DIMENSION)\n",
    "    # Convert to native Python floats\n",
    "    vector_values = [float(val) for val in numpy_values]\n",
    "    \n",
    "    # Create a unique ID for the test vector\n",
    "    vector_id = f\"test_{uuid.uuid4()}\"\n",
    "    \n",
    "    # Create metadata for the test vector\n",
    "    metadata = {\n",
    "        \"source_type\": \"test\",\n",
    "        \"chunk_type\": \"skill\",\n",
    "        \"requirement_level\": \"mandatory\",\n",
    "        \"job_id\": \"test_job\",\n",
    "        \"skill_name\": \"Python programming\",\n",
    "        \"chunk_text\": \"Required skill: Python programming with 3 years experience\"\n",
    "    }\n",
    "    \n",
    "    # Create the vector object\n",
    "    vector = {\n",
    "        \"id\": vector_id,\n",
    "        \"values\": vector_values,\n",
    "        \"metadata\": metadata\n",
    "    }\n",
    "    return vector, vector_id\n",
    "\n",
    "# create and insert a test vector\n",
    "test_vector, test_vector_id = create_test_vector()\n",
    "\n",
    "# safeguard\n",
    "if 'values' in test_vector:\n",
    "    test_vector['values'] = [float(val) for val in test_vector['values']]\n",
    "\n",
    "print(f\"Inserting test vector with ID: {test_vector_id}\")\n",
    "index.upsert(vectors=[test_vector])"
   ],
   "outputs": [
    {
     "output_type": "stream",
     "name": "stdout",
     "text": [
      "Inserting test vector with ID: test_f3ca2536-54c6-4499-b50c-7a5758137d6b\n"
     ]
    },
    {
     "output_type": "execute_result",
     "data": {
      "text/plain": [
       "{'upserted_count': 1}"
      ]
     },
     "metadata": {},
     "execution_count": 7
    }
   ],
   "metadata": {
    "id": "nQ0q60KsG0ah"
   }
  },
  {
   "cell_type": "code",
   "execution_count": 8,
   "source": [
    "# Query the test vector\n",
    "query_results = index.query(\n",
    "    vector=test_vector[\"values\"],\n",
    "    top_k=1,\n",
    "    include_metadata=True\n",
    ")\n",
    "\n",
    "print(\"Query results:\")\n",
    "# Convert the QueryResponse to a dictionary first\n",
    "query_results_dict = query_results.to_dict()\n",
    "print(json.dumps(query_results_dict, indent=2))\n",
    "\n",
    "# Verify the top result is our test vector\n",
    "if query_results_dict[\"matches\"] and query_results_dict[\"matches\"][0][\"id\"] == test_vector_id:\n",
    "    print(\"Vector query successful! Retrieved the test vector correctly.\")\n",
    "else:\n",
    "    print(\"Vector query issue: Test vector not retrieved as expected.\")"
   ],
   "outputs": [
    {
     "output_type": "stream",
     "name": "stdout",
     "text": [
      "Query results:\n",
      "{\n",
      "  \"matches\": [],\n",
      "  \"namespace\": \"\",\n",
      "  \"usage\": {\n",
      "    \"read_units\": 1\n",
      "  }\n",
      "}\n",
      "Vector query issue: Test vector not retrieved as expected.\n"
     ]
    }
   ],
   "metadata": {
    "id": "LpkJaAO0G0ah"
   }
  },
  {
   "cell_type": "code",
   "execution_count": 9,
   "source": [
    "# query with metadata filter\n",
    "filtered_results = index.query(\n",
    "    vector=test_vector[\"values\"],\n",
    "    filter={\"source_type\": \"test\"},\n",
    "    top_k=10,\n",
    "    include_metadata=True\n",
    ")\n",
    "\n",
    "print(\"\\nFiltered query results:\")\n",
    "# convert the QueryResponse to a dictionary\n",
    "filtered_results_dict = filtered_results.to_dict()\n",
    "print(json.dumps(filtered_results_dict, indent=2))\n",
    "\n",
    "if filtered_results_dict[\"matches\"]:\n",
    "    print(f\"Filter query successful! Retrieved {len(filtered_results_dict['matches'])} vectors.\")\n",
    "else:\n",
    "    print(\"Filter query issue: No vectors retrieved with filter.\")"
   ],
   "outputs": [
    {
     "output_type": "stream",
     "name": "stdout",
     "text": [
      "\n",
      "Filtered query results:\n",
      "{\n",
      "  \"matches\": [],\n",
      "  \"namespace\": \"\",\n",
      "  \"usage\": {\n",
      "    \"read_units\": 1\n",
      "  }\n",
      "}\n",
      "Filter query issue: No vectors retrieved with filter.\n"
     ]
    }
   ],
   "metadata": {
    "id": "A-LoFt58G0ah"
   }
  },
  {
   "cell_type": "code",
   "execution_count": 10,
   "source": [
    "# Delete the test vector\n",
    "index.delete(ids=[test_vector_id])\n",
    "\n",
    "# Verify deletion\n",
    "index_stats_after_delete = index.describe_index_stats()\n",
    "# Convert to dictionary before JSON serialization\n",
    "index_stats_dict = index_stats_after_delete.to_dict()\n",
    "print(f\"Index statistics after deletion: {json.dumps(index_stats_dict, indent=2)}\")"
   ],
   "outputs": [
    {
     "output_type": "stream",
     "name": "stdout",
     "text": [
      "Index statistics after deletion: {\n",
      "  \"namespaces\": {},\n",
      "  \"index_fullness\": 0.0,\n",
      "  \"total_vector_count\": 0,\n",
      "  \"dimension\": 1024,\n",
      "  \"metric\": \"cosine\",\n",
      "  \"vector_type\": \"dense\"\n",
      "}\n"
     ]
    }
   ],
   "metadata": {
    "id": "krt-yCVCG0ah"
   }
  },
  {
   "cell_type": "code",
   "execution_count": 11,
   "source": [
    "def get_pinecone_client(index_name=INDEX_NAME):\n",
    "    \"\"\"\n",
    "    Helper function to initialize Pinecone and return the index.\n",
    "    Args:\n",
    "        index_name: Name of the Pinecone index\n",
    "    Returns:\n",
    "        Pinecone index object\n",
    "    \"\"\"\n",
    "    # initialize Pinecone with the new API\n",
    "    from pinecone import Pinecone\n",
    "    \n",
    "    pc = Pinecone(api_key=PINECONE_API_KEY)\n",
    "    \n",
    "    # return the index\n",
    "    return pc.Index(index_name)\n",
    "\n",
    "# Save this function for use in other notebooks\n",
    "%store get_pinecone_client\n",
    "print(\"Stored get_pinecone_client function for use in other notebooks.\")"
   ],
   "outputs": [
    {
     "output_type": "stream",
     "name": "stdout",
     "text": [
      "Warning:get_pinecone_client is <function get_pinecone_client at 0x7fab23c289d0>\n",
      "Proper storage of interactively declared classes (or instances\n",
      "of those classes) is not possible! Only instances\n",
      "of classes in real modules on file system can be %store'd.\n",
      "\n",
      "Stored get_pinecone_client function for use in other notebooks.\n"
     ]
    }
   ],
   "metadata": {
    "id": "DgyUBsp9G0ah"
   }
  },
  {
   "cell_type": "code",
   "execution_count": 12,
   "source": [
    "print(\"\"\"\n",
    "\n",
    "Successfully:\n",
    "1. Initialized Pinecone with credentials\n",
    "2. Created a vector index for resume-job matching\n",
    "3. Configured the index for jina-embeddings-v3 (1024 dimensions)\n",
    "4. Set up metadata indexing for efficient filtering\n",
    "5. Tested basic vector operations (insert, query, filter, delete)\n",
    "\n",
    "The Pinecone vdb is ready for storing job description and resume embeddings.\n",
    "\"\"\")"
   ],
   "outputs": [
    {
     "output_type": "stream",
     "name": "stdout",
     "text": [
      "\n",
      "Pinecone Setup Complete.\n",
      "\n",
      "Successfully:\n",
      "1. Initialized Pinecone with credentials\n",
      "2. Created a vector index for resume-job matching\n",
      "3. Configured the index for jina-embeddings-v3 (1024 dimensions)\n",
      "4. Set up metadata indexing for efficient filtering\n",
      "5. Tested basic vector operations (insert, query, filter, delete)\n",
      "\n",
      "The vector database is now ready for storing job description and resume embeddings.\n",
      "\n"
     ]
    }
   ],
   "metadata": {
    "id": "_6g_sfR2G0ai"
   }
  }
 ],
 "metadata": {
  "colab": {
   "provenance": []
  },
  "kernelspec": {
   "display_name": "conda_python3",
   "language": "python",
   "name": "conda_python3"
  },
  "language_info": {
   "codemirror_mode": {
    "name": "ipython",
    "version": 3
   },
   "file_extension": ".py",
   "mimetype": "text/x-python",
   "name": "python",
   "nbconvert_exporter": "python",
   "pygments_lexer": "ipython3",
   "version": "3.10.16"
  }
 },
 "nbformat": 4,
 "nbformat_minor": 4
}
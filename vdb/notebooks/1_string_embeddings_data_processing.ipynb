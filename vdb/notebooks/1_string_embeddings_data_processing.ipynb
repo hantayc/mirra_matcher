{
 "cells": [
  {
   "cell_type": "markdown",
   "metadata": {
    "id": "W_QjVRyydaBc"
   },
   "source": [
    "#01_data_processing\n",
    "- Loads job descriptions from CSV (either from S3 or locally)\n",
    "- Extracts qualifications from JSON format\n",
    "- Assigns unique IDs to each job\n",
    "- Saves individual job description files as JSON\n",
    "- Creates formatted text for reference purposes"
   ]
  },
  {
   "cell_type": "code",
   "execution_count": 14,
   "metadata": {
    "id": "xtQNBd-ZM0uX"
   },
   "outputs": [],
   "source": [
    "import pandas as pd\n",
    "import json\n",
    "import os\n",
    "import uuid\n",
    "import boto3\n",
    "from botocore.exceptions import ClientError\n",
    "from pathlib import Path"
   ]
  },
  {
   "cell_type": "code",
   "execution_count": 15,
   "metadata": {
    "id": "fhN32Q4jM4mL"
   },
   "outputs": [],
   "source": [
    "# S3 Configuration\n",
    "S3_BUCKET = \"mirra-matcher-32\"  # Your actual S3 bucket name\n",
    "S3_RAW_PATH = \"data/raw/job_description_extraction_samples_3.csv\"  # S3 path to raw CSV file\n",
    "S3_PROCESSED_PREFIX = \"data/processed/jobs/\"  # S3 prefix for processed JSON files\n",
    "\n",
    "# S3 utility functions\n",
    "def s3_file_exists(bucket, key):\n",
    "    \"\"\"Check if a file exists in an S3 bucket.\"\"\"\n",
    "    s3_client = boto3.client('s3')\n",
    "    try:\n",
    "        s3_client.head_object(Bucket=bucket, Key=key)\n",
    "        return True\n",
    "    except ClientError as e:\n",
    "        # The file does not exist or don't have permission\n",
    "        return False"
   ]
  },
  {
   "cell_type": "code",
   "execution_count": 16,
   "metadata": {
    "id": "W-ADE2ohNgqJ"
   },
   "outputs": [],
   "source": [
    "def s3_write_json(data, bucket, key):\n",
    "    \"\"\"Write JSON data directly to S3.\"\"\"\n",
    "    s3_client = boto3.client('s3')\n",
    "    try:\n",
    "        # Convert dict to JSON string\n",
    "        json_data = json.dumps(data, indent=2)\n",
    "        # Upload as bytes\n",
    "        s3_client.put_object(\n",
    "            Body=json_data.encode('utf-8'),\n",
    "            Bucket=bucket,\n",
    "            Key=key,\n",
    "            ContentType='application/json'\n",
    "        )\n",
    "        print(f\"Successfully wrote JSON to s3://{bucket}/{key}\")\n",
    "        return True\n",
    "    except Exception as e:\n",
    "        print(f\"Error writing JSON to S3: {str(e)}\")\n",
    "        return False\n"
   ]
  },
  {
   "cell_type": "code",
   "execution_count": 17,
   "metadata": {
    "id": "vV9LjkyYNi4D"
   },
   "outputs": [],
   "source": [
    "def load_data(bucket=\"mirra-matcher-32\", key=\"data/raw/job_description_extraction_samples_3.csv\"):\n",
    "    \"\"\"\n",
    "    Load job description data from CSV file in S3.\n",
    "    Only loads directly from S3 without local file handling.\n",
    "    \n",
    "    Args:\n",
    "        bucket: S3 bucket name\n",
    "        key: S3 key for the CSV file\n",
    "        \n",
    "    Returns:\n",
    "        DataFrame with job description data or None if file not found\n",
    "    \"\"\"\n",
    "    # Check if file exists in S3\n",
    "    if not s3_file_exists(bucket, key):\n",
    "        print(f\"File not found in S3: s3://{bucket}/{key}\")\n",
    "        return None\n",
    "        \n",
    "    try:\n",
    "        # Create a direct read from S3 using pandas\n",
    "        s3_client = boto3.client('s3')\n",
    "        s3_resource = boto3.resource('s3')\n",
    "        \n",
    "        # Get the object directly from S3\n",
    "        obj = s3_resource.Object(bucket, key)\n",
    "        \n",
    "        # Use pandas to read CSV directly from S3 object body\n",
    "        df = pd.read_csv(obj.get()['Body'])\n",
    "        \n",
    "        print(f\"Successfully loaded {len(df)} rows from S3: s3://{bucket}/{key}\")\n",
    "        return df\n",
    "        \n",
    "    except Exception as e:\n",
    "        print(f\"Error loading data from S3: {str(e)}\")\n",
    "        return None\n"
   ]
  },
  {
   "cell_type": "code",
   "execution_count": 18,
   "metadata": {
    "id": "CQjocC3sa2co"
   },
   "outputs": [
    {
     "name": "stdout",
     "output_type": "stream",
     "text": [
      "Successfully loaded 50 rows from S3: s3://mirra-matcher-32/data/raw/job_description_extraction_samples_3.csv\n"
     ]
    }
   ],
   "source": [
    "df = load_data()"
   ]
  },
  {
   "cell_type": "code",
   "execution_count": 19,
   "metadata": {
    "id": "2WHCBSsNa4TV"
   },
   "outputs": [
    {
     "name": "stdout",
     "output_type": "stream",
     "text": [
      "\n",
      "DataFrame columns:\n",
      "['snapshot_id', 'id', 'title', 'description', 'location', 'salary', 'pay_rate', 'telecommute_option', 'job_length', 'tax_terms', 'source_app', 'company_name', 'web_url', 'company', 'year', 'month', 'day', 'id_rank', 'rn', 'description_length', 'description_new', 'reformatted', 'extracted']\n"
     ]
    }
   ],
   "source": [
    "print(\"\\nDataFrame columns:\")\n",
    "print(df.columns.tolist())"
   ]
  },
  {
   "cell_type": "code",
   "execution_count": 20,
   "metadata": {
    "id": "CRMAkJPAa7eM"
   },
   "outputs": [],
   "source": [
    "def extract_qualifications(label_json):\n",
    "    \"\"\"\n",
    "    Parses the JSON string from the 'label' column and returns a dictionary.\n",
    "    Returns an empty dict on error.\n",
    "    \"\"\"\n",
    "    if pd.isna(label_json):\n",
    "        return {}\n",
    "\n",
    "    try:\n",
    "        if isinstance(label_json, dict):\n",
    "            return label_json\n",
    "        return json.loads(label_json)\n",
    "    except (json.JSONDecodeError, TypeError) as e:\n",
    "        print(f\"JSON parsing error: {e}\")\n",
    "        return {}"
   ]
  },
  {
   "cell_type": "code",
   "execution_count": 21,
   "metadata": {
    "id": "t5Sz_ENJa-Xq"
   },
   "outputs": [],
   "source": [
    "df[\"qualifications\"] = df[\"extracted\"].apply(extract_qualifications)"
   ]
  },
  {
   "cell_type": "code",
   "execution_count": 22,
   "metadata": {
    "id": "IBbZlO1wbAbe"
   },
   "outputs": [],
   "source": [
    "# create a unique ID for each job if not present\n",
    "if \"id\" not in df.columns or df[\"id\"].isna().any():\n",
    "    print(\"Adding job IDs where missing...\")\n",
    "    if \"id\" not in df.columns:\n",
    "        df[\"id\"] = [f\"job_{uuid.uuid4()}\" for _ in range(len(df))]\n",
    "    else:\n",
    "        df.loc[df[\"id\"].isna(), \"id\"] = [f\"job_{uuid.uuid4()}\" for _ in range(df[\"id\"].isna().sum())]\n"
   ]
  },
  {
   "cell_type": "code",
   "execution_count": 23,
   "metadata": {
    "id": "tLssFhzqbGW5"
   },
   "outputs": [
    {
     "name": "stdout",
     "output_type": "stream",
     "text": [
      "Successfully wrote JSON to s3://mirra-matcher-32/data/processed/jobs/f9186343-53c2-4026-a46f-d9ceb057e449.json\n",
      "Successfully wrote JSON to s3://mirra-matcher-32/data/processed/jobs/2f43bd3b-bc7f-457e-ae11-f9da2482f696.json\n",
      "Successfully wrote JSON to s3://mirra-matcher-32/data/processed/jobs/bb6d2493-a506-4364-bdfe-145ed44307ce.json\n",
      "Successfully wrote JSON to s3://mirra-matcher-32/data/processed/jobs/8944afca-58e7-465f-88bc-669154500898.json\n",
      "Successfully wrote JSON to s3://mirra-matcher-32/data/processed/jobs/6ea4e3e3-4762-4116-8813-149442bd5fb1.json\n",
      "Successfully wrote JSON to s3://mirra-matcher-32/data/processed/jobs/f39db910-904d-4300-aedd-5a468d275770.json\n",
      "Successfully wrote JSON to s3://mirra-matcher-32/data/processed/jobs/a15701e5-b2a4-4bb9-8a64-7779f3b2447f.json\n",
      "Successfully wrote JSON to s3://mirra-matcher-32/data/processed/jobs/bea37244-69ae-457a-86da-86a3f1fe4033.json\n",
      "Successfully wrote JSON to s3://mirra-matcher-32/data/processed/jobs/41e06724-0b8d-41f8-8c6e-40b3cf68f03e.json\n",
      "Successfully wrote JSON to s3://mirra-matcher-32/data/processed/jobs/f37639b7-2b44-4c71-946b-27c20ff940b9.json\n",
      "Successfully wrote JSON to s3://mirra-matcher-32/data/processed/jobs/906025ba-9fe4-4566-99a8-ba9f93140808.json\n",
      "Successfully wrote JSON to s3://mirra-matcher-32/data/processed/jobs/e5e5de47-8973-4e9f-b295-06ba9f57a19d.json\n",
      "Successfully wrote JSON to s3://mirra-matcher-32/data/processed/jobs/b8a4c5c1-6bf7-4648-ba0e-b75248a3a276.json\n",
      "Successfully wrote JSON to s3://mirra-matcher-32/data/processed/jobs/02d57437-cf0d-43f8-bc06-132945d7d67c.json\n",
      "Successfully wrote JSON to s3://mirra-matcher-32/data/processed/jobs/732cbd83-afcf-4b6a-836f-f090afbec500.json\n",
      "Successfully wrote JSON to s3://mirra-matcher-32/data/processed/jobs/04238eb2-2774-4825-9f2e-c0c76b038f03.json\n",
      "Successfully wrote JSON to s3://mirra-matcher-32/data/processed/jobs/fd1e8959-1d08-4bdc-bb37-7f6975be7181.json\n",
      "Successfully wrote JSON to s3://mirra-matcher-32/data/processed/jobs/99c5762b-0739-4d24-844b-47d77dea638a.json\n",
      "Successfully wrote JSON to s3://mirra-matcher-32/data/processed/jobs/d31ac4ca-66c3-46a3-b060-75f6a967e9e6.json\n",
      "Successfully wrote JSON to s3://mirra-matcher-32/data/processed/jobs/22ececcd-eedb-4413-a54b-f3390f1e9e14.json\n",
      "Successfully wrote JSON to s3://mirra-matcher-32/data/processed/jobs/cb404c6e-a8d5-49d9-8a1b-59685f4e53a3.json\n",
      "Successfully wrote JSON to s3://mirra-matcher-32/data/processed/jobs/e730434a-18f6-44ea-857a-75d31ac487b7.json\n",
      "Successfully wrote JSON to s3://mirra-matcher-32/data/processed/jobs/b05f9d30-e162-4fd4-ae00-a11eb3c1bcf3.json\n",
      "Successfully wrote JSON to s3://mirra-matcher-32/data/processed/jobs/d448e327-2839-4464-aea2-4b245596a258.json\n",
      "Successfully wrote JSON to s3://mirra-matcher-32/data/processed/jobs/68e7b391-160f-47fd-ab89-5bb710cfc90a.json\n",
      "Successfully wrote JSON to s3://mirra-matcher-32/data/processed/jobs/3075bea3-73b3-4df3-97a9-43b7036c6ccd.json\n",
      "Successfully wrote JSON to s3://mirra-matcher-32/data/processed/jobs/ca68d86d-83e6-4a0f-b17c-4320ff22b6a9.json\n",
      "Successfully wrote JSON to s3://mirra-matcher-32/data/processed/jobs/bf61eddb-c8e0-48fd-9748-4f0ae39d4db0.json\n",
      "Successfully wrote JSON to s3://mirra-matcher-32/data/processed/jobs/a43fba3d-f877-4447-916d-f58a20962f9d.json\n",
      "Successfully wrote JSON to s3://mirra-matcher-32/data/processed/jobs/9321ac90-e372-423a-b4e7-9d0d8be3c015.json\n",
      "Successfully wrote JSON to s3://mirra-matcher-32/data/processed/jobs/57dceff0-21c8-4f28-8395-18b8a1b51006.json\n",
      "Successfully wrote JSON to s3://mirra-matcher-32/data/processed/jobs/9dea62fb-185c-405f-a7c1-493c868472fa.json\n",
      "Successfully wrote JSON to s3://mirra-matcher-32/data/processed/jobs/ba800cce-6e7e-46c4-870e-ab6bf5a29598.json\n",
      "Successfully wrote JSON to s3://mirra-matcher-32/data/processed/jobs/052a8e4d-fe81-4040-8efa-f58e95a88e1a.json\n",
      "Successfully wrote JSON to s3://mirra-matcher-32/data/processed/jobs/2fbc40e0-afbd-4bc6-8d7b-770621782c49.json\n",
      "Successfully wrote JSON to s3://mirra-matcher-32/data/processed/jobs/4799ea91-c4dd-48cb-a008-837c1247ca04.json\n",
      "Successfully wrote JSON to s3://mirra-matcher-32/data/processed/jobs/81329b04-742b-40c9-b338-b5d448d98fcf.json\n",
      "Successfully wrote JSON to s3://mirra-matcher-32/data/processed/jobs/f9acca2b-33c2-43a7-be1f-372fa970d767.json\n",
      "Successfully wrote JSON to s3://mirra-matcher-32/data/processed/jobs/b7d41844-d560-4e4d-a0bc-0356241180b9.json\n",
      "Successfully wrote JSON to s3://mirra-matcher-32/data/processed/jobs/a3dcb034-9ea0-4299-ad8b-0631ca9411b1.json\n",
      "Successfully wrote JSON to s3://mirra-matcher-32/data/processed/jobs/a217ba7b-9b15-417b-a372-895d98576947.json\n",
      "Successfully wrote JSON to s3://mirra-matcher-32/data/processed/jobs/4bfbdab5-b0af-4a80-886d-023d67ceaec8.json\n",
      "Successfully wrote JSON to s3://mirra-matcher-32/data/processed/jobs/1e8206ab-7f94-4a9b-b498-f403caa8be1f.json\n",
      "Successfully wrote JSON to s3://mirra-matcher-32/data/processed/jobs/82106c86-50ac-434b-877d-a02d423d1a4c.json\n",
      "Successfully wrote JSON to s3://mirra-matcher-32/data/processed/jobs/7376f4dc-bcbd-4ce8-8214-cd6cb09d99d0.json\n",
      "Successfully wrote JSON to s3://mirra-matcher-32/data/processed/jobs/c6a36556-10a8-4eac-8a56-61e8e816c5b9.json\n",
      "Successfully wrote JSON to s3://mirra-matcher-32/data/processed/jobs/713fb1b9-9c2e-47a7-bfbf-50476af1d8b2.json\n",
      "Successfully wrote JSON to s3://mirra-matcher-32/data/processed/jobs/fd3b62c3-1120-4685-b310-09149b929367.json\n",
      "Successfully wrote JSON to s3://mirra-matcher-32/data/processed/jobs/82735302-7b03-401f-a782-5c9d441db5a2.json\n",
      "Successfully wrote JSON to s3://mirra-matcher-32/data/processed/jobs/fe9f4ccf-a12e-43af-8050-114282270ce5.json\n",
      "\n",
      "Processed and saved 50 job descriptions to s3://mirra-matcher-32/data/processed/jobs/\n"
     ]
    }
   ],
   "source": [
    "# save each job as an individual JSON file\n",
    "saved_count = 0\n",
    "for _, row in df.iterrows():\n",
    "    job_id = row[\"id\"]\n",
    "    qualifications = row[\"qualifications\"]\n",
    "\n",
    "    # Skip rows with empty qualifications\n",
    "    if not qualifications:\n",
    "        continue\n",
    "\n",
    "    # Ensure job_id is in the qualifications\n",
    "    qualifications[\"job_id\"] = job_id\n",
    "\n",
    "    # Save to S3\n",
    "    output_key = f\"{S3_PROCESSED_PREFIX}{job_id}.json\"\n",
    "    if s3_write_json(qualifications, S3_BUCKET, output_key):\n",
    "        saved_count += 1\n",
    "\n",
    "print(f\"\\nProcessed and saved {saved_count} job descriptions to s3://{S3_BUCKET}/{S3_PROCESSED_PREFIX}\")\n"
   ]
  },
  {
   "cell_type": "code",
   "execution_count": null,
   "metadata": {},
   "outputs": [],
   "source": []
  }
 ],
 "metadata": {
  "colab": {
   "provenance": []
  },
  "kernelspec": {
   "display_name": "conda_python3",
   "language": "python",
   "name": "conda_python3"
  },
  "language_info": {
   "codemirror_mode": {
    "name": "ipython",
    "version": 3
   },
   "file_extension": ".py",
   "mimetype": "text/x-python",
   "name": "python",
   "nbconvert_exporter": "python",
   "pygments_lexer": "ipython3",
   "version": "3.10.16"
  }
 },
 "nbformat": 4,
 "nbformat_minor": 4
}
